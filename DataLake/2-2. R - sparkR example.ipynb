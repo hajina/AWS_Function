{
 "cells": [
  {
   "cell_type": "markdown",
   "metadata": {},
   "source": [
    "# Example R Notebook\n",
    "\n",
    "다음 실습은 R을 활용한 간단한 데이터 분석입니다. R의 기본적인 문법과 형식을 그대로 사용하면서, 대량의 데이터 처리를 위해서 Spark과 연동을 위해 SparkR을 활용합니다.\n",
    "실제로 Spark의 분산처리 환경을 통해 대용량 데이터 처리가 가능합니다. "
   ]
  },
  {
   "cell_type": "markdown",
   "metadata": {},
   "source": [
    "### FLIGHTS DATA Analysis\n",
    "\n",
    "아래 실습에서 사용하는 샘플 데이터는 nycflights13 R 패키지를 활용합니다. 이 패키지에는 2013년 뉴욕을 출발하는 336,776 편의 모든 항공편에 대한 데이터가 포함되어 있으며 항공사, 공항, 날씨 및 비행기에 대한 유용한 메타 데이터도 포함되어 있습니다. 이 데이터는 미국교통통계국(Bureau of Transportation Statistics)에서 가져온 데이터 입니다. "
   ]
  },
  {
   "cell_type": "markdown",
   "metadata": {},
   "source": [
    "#### 참고 : 다음의 install.packages 명령 구문의 최초 1회만 사용하면 됩니다. "
   ]
  },
  {
   "cell_type": "code",
   "execution_count": 1,
   "metadata": {},
   "outputs": [
    {
     "name": "stderr",
     "output_type": "stream",
     "text": [
      "Updating HTML index of packages in '.Library'\n",
      "Making 'packages.html' ... done\n",
      "Updating HTML index of packages in '.Library'\n",
      "Making 'packages.html' ... done\n",
      "Updating HTML index of packages in '.Library'\n",
      "Making 'packages.html' ... done\n"
     ]
    }
   ],
   "source": [
    "install.packages(\"sparklyr\")\n",
    "install.packages(\"dplyr\")\n",
    "install.packages(\"nycflights13\")"
   ]
  },
  {
   "cell_type": "markdown",
   "metadata": {},
   "source": [
    "library 로딩 명령어는 세션 시작시마다 재실행이 필요합니다. "
   ]
  },
  {
   "cell_type": "code",
   "execution_count": 2,
   "metadata": {},
   "outputs": [
    {
     "name": "stderr",
     "output_type": "stream",
     "text": [
      "\n",
      "Attaching package: ‘dplyr’\n",
      "\n",
      "The following objects are masked from ‘package:stats’:\n",
      "\n",
      "    filter, lag\n",
      "\n",
      "The following objects are masked from ‘package:base’:\n",
      "\n",
      "    intersect, setdiff, setequal, union\n",
      "\n"
     ]
    }
   ],
   "source": [
    "library(sparklyr)\n",
    "library(dplyr)\n",
    "library(nycflights13)\n",
    "library(ggplot2)"
   ]
  },
  {
   "cell_type": "markdown",
   "metadata": {},
   "source": [
    "Spark session을 얻어오는 과정입니다. "
   ]
  },
  {
   "cell_type": "code",
   "execution_count": 3,
   "metadata": {},
   "outputs": [],
   "source": [
    "sc <- spark_connect(master=\"local\")"
   ]
  },
  {
   "cell_type": "code",
   "execution_count": 4,
   "metadata": {},
   "outputs": [],
   "source": [
    "flights <- copy_to(sc, flights, \"flights\")\n",
    "airlines <- copy_to(sc, airlines, \"airlines\")\n",
    "#src_tbls(sc)"
   ]
  },
  {
   "cell_type": "markdown",
   "metadata": {},
   "source": [
    "### 데이터 처리를 위한 패키지 : dplyr\n",
    "직관적으로 데이터 처리에 매우 유용한 패키지 입니다. Spark DataFrame 형식의 데이터 변환을 위해서 dplyr 구문을 Spark SQL 형태로 바꾸어 실행됩니다. \n",
    "아래의 명령어 5개를 활용하며, 파이프라인(%>%)을 통해서 매우 쉽게 데이터 조작이 가능합니다. \n",
    "\n",
    "* select ~ SELECT\n",
    "* filter ~ WHERE\n",
    "* arrange ~ ORDER\n",
    "* summarise ~ aggregators: sum, min, sd, etc.\n",
    "* mutate ~ operators: +, *, log, etc."
   ]
  },
  {
   "cell_type": "code",
   "execution_count": 5,
   "metadata": {},
   "outputs": [
    {
     "data": {
      "text/plain": [
       "# Source: spark<?> [?? x 5]\n",
       "    year month   day arr_delay dep_delay\n",
       "   <int> <int> <int>     <dbl>     <dbl>\n",
       " 1  2013     1     1        11         2\n",
       " 2  2013     1     1        20         4\n",
       " 3  2013     1     1        33         2\n",
       " 4  2013     1     1       -18        -1\n",
       " 5  2013     1     1       -25        -6\n",
       " 6  2013     1     1        12        -4\n",
       " 7  2013     1     1        19        -5\n",
       " 8  2013     1     1       -14        -3\n",
       " 9  2013     1     1        -8        -3\n",
       "10  2013     1     1         8        -2\n",
       "# … with more rows"
      ]
     },
     "metadata": {},
     "output_type": "display_data"
    }
   ],
   "source": [
    "select(flights, year:day, arr_delay, dep_delay)"
   ]
  },
  {
   "cell_type": "code",
   "execution_count": 6,
   "metadata": {},
   "outputs": [
    {
     "data": {
      "text/plain": [
       "# Source: spark<?> [?? x 19]\n",
       "   year month   day dep_time sched_dep_time dep_delay arr_time sched_arr_time\n",
       "  <int> <int> <int>    <int>          <int>     <dbl>    <int>          <int>\n",
       "1  2013     1     9      641            900      1301     1242           1530\n",
       "2  2013     1    10     1121           1635      1126     1239           1810\n",
       "3  2013     6    15     1432           1935      1137     1607           2120\n",
       "4  2013     7    22      845           1600      1005     1044           1815\n",
       "5  2013     9    20     1139           1845      1014     1457           2210\n",
       "# … with 11 more variables: arr_delay <dbl>, carrier <chr>, flight <int>,\n",
       "#   tailnum <chr>, origin <chr>, dest <chr>, air_time <dbl>, distance <dbl>,\n",
       "#   hour <dbl>, minute <dbl>, time_hour <dttm>"
      ]
     },
     "metadata": {},
     "output_type": "display_data"
    }
   ],
   "source": [
    "filter(flights, dep_delay > 1000)"
   ]
  },
  {
   "cell_type": "code",
   "execution_count": 7,
   "metadata": {},
   "outputs": [
    {
     "data": {
      "text/plain": [
       "# Source:     spark<?> [?? x 19]\n",
       "# Ordered by: desc(dep_delay)\n",
       "    year month   day dep_time sched_dep_time dep_delay arr_time sched_arr_time\n",
       "   <int> <int> <int>    <int>          <int>     <dbl>    <int>          <int>\n",
       " 1  2013     1     9      641            900      1301     1242           1530\n",
       " 2  2013     6    15     1432           1935      1137     1607           2120\n",
       " 3  2013     1    10     1121           1635      1126     1239           1810\n",
       " 4  2013     9    20     1139           1845      1014     1457           2210\n",
       " 5  2013     7    22      845           1600      1005     1044           1815\n",
       " 6  2013     4    10     1100           1900       960     1342           2211\n",
       " 7  2013     3    17     2321            810       911      135           1020\n",
       " 8  2013     6    27      959           1900       899     1236           2226\n",
       " 9  2013     7    22     2257            759       898      121           1026\n",
       "10  2013    12     5      756           1700       896     1058           2020\n",
       "# … with more rows, and 11 more variables: arr_delay <dbl>, carrier <chr>,\n",
       "#   flight <int>, tailnum <chr>, origin <chr>, dest <chr>, air_time <dbl>,\n",
       "#   distance <dbl>, hour <dbl>, minute <dbl>, time_hour <dttm>"
      ]
     },
     "metadata": {},
     "output_type": "display_data"
    }
   ],
   "source": [
    "arrange(flights, desc(dep_delay))"
   ]
  },
  {
   "cell_type": "code",
   "execution_count": 8,
   "metadata": {},
   "outputs": [
    {
     "name": "stderr",
     "output_type": "stream",
     "text": [
      "Warning message:\n",
      "“Missing values are always removed in SQL.\n",
      "Use `AVG(x, na.rm = TRUE)` to silence this warning”Warning message:\n",
      "“Missing values are always removed in SQL.\n",
      "Use `AVG(x, na.rm = TRUE)` to silence this warning”Warning message:\n",
      "“Missing values are always removed in SQL.\n",
      "Use `AVG(x, na.rm = TRUE)` to silence this warning”Warning message:\n",
      "“Missing values are always removed in SQL.\n",
      "Use `AVG(x, na.rm = TRUE)` to silence this warning”Warning message:\n",
      "“Missing values are always removed in SQL.\n",
      "Use `AVG(x, na.rm = TRUE)` to silence this warning”"
     ]
    },
    {
     "data": {
      "text/plain": [
       "# Source: spark<?> [?? x 1]\n",
       "  mean_dep_delay\n",
       "           <dbl>\n",
       "1           12.6"
      ]
     },
     "metadata": {},
     "output_type": "display_data"
    }
   ],
   "source": [
    "summarise(flights, mean_dep_delay = mean(dep_delay))"
   ]
  },
  {
   "cell_type": "code",
   "execution_count": 9,
   "metadata": {},
   "outputs": [
    {
     "data": {
      "text/plain": [
       "# Source: spark<?> [?? x 20]\n",
       "    year month   day dep_time sched_dep_time dep_delay arr_time sched_arr_time\n",
       "   <int> <int> <int>    <int>          <int>     <dbl>    <int>          <int>\n",
       " 1  2013     1     1      517            515         2      830            819\n",
       " 2  2013     1     1      533            529         4      850            830\n",
       " 3  2013     1     1      542            540         2      923            850\n",
       " 4  2013     1     1      544            545        -1     1004           1022\n",
       " 5  2013     1     1      554            600        -6      812            837\n",
       " 6  2013     1     1      554            558        -4      740            728\n",
       " 7  2013     1     1      555            600        -5      913            854\n",
       " 8  2013     1     1      557            600        -3      709            723\n",
       " 9  2013     1     1      557            600        -3      838            846\n",
       "10  2013     1     1      558            600        -2      753            745\n",
       "# … with more rows, and 12 more variables: arr_delay <dbl>, carrier <chr>,\n",
       "#   flight <int>, tailnum <chr>, origin <chr>, dest <chr>, air_time <dbl>,\n",
       "#   distance <dbl>, hour <dbl>, minute <dbl>, time_hour <dttm>, speed <dbl>"
      ]
     },
     "metadata": {},
     "output_type": "display_data"
    }
   ],
   "source": [
    "mutate(flights, speed = distance / air_time * 60)"
   ]
  },
  {
   "cell_type": "markdown",
   "metadata": {},
   "source": [
    "### Laziness\n",
    "데이터베이스 작업을 할때 Spark에서는 가능하면 늦게 작업을 진행하고자 합니다. dplyr도 동일한 Laziness를 가지고 있습니다. \n",
    "\n",
    "* 명시적으로 요청하지 않는 한 데이터를 R로 가져 오지 않습니다.\n",
    "\n",
    "* 마지막 순간까지 모든 작업을 지연합니다. 원하는 작업을 모두 준비한 이후에 데이터베이스로 데이터를 보냅니다.\n",
    "\n",
    "아래의 예제 코드를 참조하세요 "
   ]
  },
  {
   "cell_type": "code",
   "execution_count": 10,
   "metadata": {},
   "outputs": [],
   "source": [
    "c1 <- filter(flights, day == 17, month == 5, carrier %in% c('UA', 'WN', 'AA', 'DL'))\n",
    "c2 <- select(c1, year, month, day, carrier, dep_delay, air_time, distance)\n",
    "c3 <- arrange(c2, year, month, day, carrier)\n",
    "c4 <- mutate(c3, air_time_hours = air_time / 60)"
   ]
  },
  {
   "cell_type": "code",
   "execution_count": 11,
   "metadata": {},
   "outputs": [
    {
     "data": {
      "text/plain": [
       "# Source:     spark<?> [?? x 8]\n",
       "# Ordered by: year, month, day, carrier\n",
       "    year month   day carrier dep_delay air_time distance air_time_hours\n",
       "   <int> <int> <int> <chr>       <dbl>    <dbl>    <dbl>          <dbl>\n",
       " 1  2013     5    17 AA             -7      142     1089           2.37\n",
       " 2  2013     5    17 AA             -9      186     1389           3.1 \n",
       " 3  2013     5    17 AA             -6      143     1096           2.38\n",
       " 4  2013     5    17 AA             -7      119      733           1.98\n",
       " 5  2013     5    17 AA             -4      114      733           1.9 \n",
       " 6  2013     5    17 AA             -2      146     1085           2.43\n",
       " 7  2013     5    17 AA             -2      185     1372           3.08\n",
       " 8  2013     5    17 AA             -3      193     1598           3.22\n",
       " 9  2013     5    17 AA             -7      137      944           2.28\n",
       "10  2013     5    17 AA             -1      195     1389           3.25\n",
       "# … with more rows"
      ]
     },
     "metadata": {},
     "output_type": "display_data"
    }
   ],
   "source": [
    "c4"
   ]
  },
  {
   "cell_type": "markdown",
   "metadata": {},
   "source": [
    "### Piping\n",
    "\n",
    "magrittr 파이프 (%>%)를 사용하여 더 명확한 구문을 작성할 수 있습니다. 아래 예제를 참고하면 쉽게 이해를 할 수 있습니다. "
   ]
  },
  {
   "cell_type": "code",
   "execution_count": 12,
   "metadata": {},
   "outputs": [],
   "source": [
    "c4 <- flights %>%\n",
    "  filter(month == 5, day == 17, carrier %in% c('UA', 'WN', 'AA', 'DL')) %>%\n",
    "  select(carrier, dep_delay, air_time, distance) %>%\n",
    "  arrange(carrier) %>%\n",
    "  mutate(air_time_hours = air_time / 60)"
   ]
  },
  {
   "cell_type": "markdown",
   "metadata": {},
   "source": [
    "### Grouping\n",
    "\n",
    "group_by 함수는 SQL의 GROUP BY 문과 동일하게 동작합니다. "
   ]
  },
  {
   "cell_type": "code",
   "execution_count": 13,
   "metadata": {},
   "outputs": [
    {
     "name": "stderr",
     "output_type": "stream",
     "text": [
      "Warning message:\n",
      "“Missing values are always removed in SQL.\n",
      "Use `AVG(x, na.rm = TRUE)` to silence this warning”Warning message:\n",
      "“Missing values are always removed in SQL.\n",
      "Use `AVG(x, na.rm = TRUE)` to silence this warning”Warning message:\n",
      "“Missing values are always removed in SQL.\n",
      "Use `AVG(x, na.rm = TRUE)` to silence this warning”Warning message:\n",
      "“Missing values are always removed in SQL.\n",
      "Use `AVG(x, na.rm = TRUE)` to silence this warning”Warning message:\n",
      "“Missing values are always removed in SQL.\n",
      "Use `AVG(x, na.rm = TRUE)` to silence this warning”"
     ]
    },
    {
     "data": {
      "text/plain": [
       "# Source: spark<?> [?? x 3]\n",
       "  carrier count mean_dep_delay\n",
       "  <chr>   <dbl>          <dbl>\n",
       "1 AA         94           1.47\n",
       "2 DL        136           6.24\n",
       "3 UA        172           9.63\n",
       "4 WN         34           7.97"
      ]
     },
     "metadata": {},
     "output_type": "display_data"
    }
   ],
   "source": [
    "c4 %>%\n",
    "  group_by(carrier) %>%\n",
    "  summarize(count = n(), mean_dep_delay = mean(dep_delay))"
   ]
  },
  {
   "cell_type": "markdown",
   "metadata": {},
   "source": [
    "### Collecting to R\n",
    "\n",
    "collect ()를 사용하여 Spark에서 R의 메모리로 데이터를 복사 할 수 있습니다."
   ]
  },
  {
   "cell_type": "code",
   "execution_count": 14,
   "metadata": {},
   "outputs": [],
   "source": [
    "carrierhours <- collect(c4)"
   ]
  },
  {
   "cell_type": "markdown",
   "metadata": {},
   "source": [
    "**collect()**는 Spark 쿼리를 실행하고 결과를 R로 반환하여 추가 분석과 시각화를 수행합니다."
   ]
  },
  {
   "cell_type": "code",
   "execution_count": 15,
   "metadata": {},
   "outputs": [
    {
     "data": {
      "text/plain": [
       "\n",
       "\tPairwise comparisons using t tests with pooled SD \n",
       "\n",
       "data:  air_time and carrier \n",
       "\n",
       "   AA      DL      UA     \n",
       "DL 0.25057 -       -      \n",
       "UA 0.07957 0.00044 -      \n",
       "WN 0.07957 0.23488 0.00041\n",
       "\n",
       "P value adjustment method: holm "
      ]
     },
     "metadata": {},
     "output_type": "display_data"
    }
   ],
   "source": [
    "# Test the significance of pairwise differences and plot the results\n",
    "with(carrierhours, pairwise.t.test(air_time, carrier))"
   ]
  },
  {
   "cell_type": "code",
   "execution_count": 16,
   "metadata": {},
   "outputs": [
    {
     "data": {},
     "metadata": {},
     "output_type": "display_data"
    },
    {
     "data": {
      "image/png": "[encoded data removed]",
      "text/plain": [
       "plot without title"
      ]
     },
     "metadata": {},
     "output_type": "display_data",
     "source": "R display func"
    }
   ],
   "source": [
    "ggplot(carrierhours, aes(carrier, air_time_hours)) + geom_boxplot()"
   ]
  },
  {
   "cell_type": "markdown",
   "metadata": {},
   "source": [
    "### Peforming Joins\n",
    "\n",
    "데이터 분석에는 단 하나의 테이블만 사용하는 경우는 거의 없기 때문에 다수의 테이블을 결합하는 도구가 필요합니다. dplyr에는 몇가지 테이블을 조합하는 방법이 있습니다. \n",
    "\n",
    "* 다른 테이블에 일치하는 행에서 한 테이블에 새로운 변수를 추가하는 조인 (mutating join).\n",
    "\n",
    "* 필터링 조인은 다른 테이블의 관찰과 일치하는지 여부에 따라 하나의 테이블에서 관찰을 필터링합니다.\n",
    "\n",
    "* 설정 작업 : 데이터 세트의 관측 값을 설정된 요소처럼 결합합니다.\n"
   ]
  },
  {
   "cell_type": "code",
   "execution_count": 17,
   "metadata": {},
   "outputs": [
    {
     "name": "stderr",
     "output_type": "stream",
     "text": [
      "Joining, by = \"carrier\"\n"
     ]
    },
    {
     "data": {
      "text/plain": [
       "# Source: spark<?> [?? x 20]\n",
       "    year month   day dep_time sched_dep_time dep_delay arr_time sched_arr_time\n",
       "   <int> <int> <int>    <int>          <int>     <dbl>    <int>          <int>\n",
       " 1  2013     1     1      517            515         2      830            819\n",
       " 2  2013     1     1      533            529         4      850            830\n",
       " 3  2013     1     1      542            540         2      923            850\n",
       " 4  2013     1     1      544            545        -1     1004           1022\n",
       " 5  2013     1     1      554            600        -6      812            837\n",
       " 6  2013     1     1      554            558        -4      740            728\n",
       " 7  2013     1     1      555            600        -5      913            854\n",
       " 8  2013     1     1      557            600        -3      709            723\n",
       " 9  2013     1     1      557            600        -3      838            846\n",
       "10  2013     1     1      558            600        -2      753            745\n",
       "# … with more rows, and 12 more variables: arr_delay <dbl>, carrier <chr>,\n",
       "#   flight <int>, tailnum <chr>, origin <chr>, dest <chr>, air_time <dbl>,\n",
       "#   distance <dbl>, hour <dbl>, minute <dbl>, time_hour <dttm>, name <chr>"
      ]
     },
     "metadata": {},
     "output_type": "display_data"
    }
   ],
   "source": [
    "flights %>% left_join(airlines)"
   ]
  },
  {
   "cell_type": "code",
   "execution_count": 18,
   "metadata": {},
   "outputs": [
    {
     "data": {
      "text/plain": [
       "# Source: spark<?> [?? x 20]\n",
       "    year month   day dep_time sched_dep_time dep_delay arr_time sched_arr_time\n",
       "   <int> <int> <int>    <int>          <int>     <dbl>    <int>          <int>\n",
       " 1  2013     1     1      517            515         2      830            819\n",
       " 2  2013     1     1      533            529         4      850            830\n",
       " 3  2013     1     1      542            540         2      923            850\n",
       " 4  2013     1     1      544            545        -1     1004           1022\n",
       " 5  2013     1     1      554            600        -6      812            837\n",
       " 6  2013     1     1      554            558        -4      740            728\n",
       " 7  2013     1     1      555            600        -5      913            854\n",
       " 8  2013     1     1      557            600        -3      709            723\n",
       " 9  2013     1     1      557            600        -3      838            846\n",
       "10  2013     1     1      558            600        -2      753            745\n",
       "# … with more rows, and 12 more variables: arr_delay <dbl>, carrier <chr>,\n",
       "#   flight <int>, tailnum <chr>, origin <chr>, dest <chr>, air_time <dbl>,\n",
       "#   distance <dbl>, hour <dbl>, minute <dbl>, time_hour <dttm>, name <chr>"
      ]
     },
     "metadata": {},
     "output_type": "display_data"
    }
   ],
   "source": [
    "flights %>% left_join(airlines, by = c(\"carrier\", \"carrier\"))"
   ]
  },
  {
   "cell_type": "markdown",
   "metadata": {},
   "source": [
    "### Hive Functions\n",
    "Hive의 내장 함수 (UDF)와 내장 된 집계 함수 (UDAF)의 대부분은 dplyr의 mutate 내부에서 호출하여 요약 할 수 있습니다.\n",
    "다음 예제에서는 datediff 및 current_date Hive UDF를 사용하여 flight_date와 현재 시스템 날짜의 차이를 계산합니다."
   ]
  },
  {
   "cell_type": "code",
   "execution_count": 19,
   "metadata": {},
   "outputs": [
    {
     "data": {
      "text/plain": [
       "# Source:     spark<?> [?? x 3]\n",
       "# Groups:     flight_date\n",
       "# Ordered by: -days_since\n",
       "   flight_date days_since     n\n",
       "   <chr>            <int> <dbl>\n",
       " 1 2013-1-1          2366   842\n",
       " 2 2013-1-2          2365   943\n",
       " 3 2013-1-3          2364   914\n",
       " 4 2013-1-4          2363   915\n",
       " 5 2013-1-5          2362   720\n",
       " 6 2013-1-6          2361   832\n",
       " 7 2013-1-7          2360   933\n",
       " 8 2013-1-8          2359   899\n",
       " 9 2013-1-9          2358   902\n",
       "10 2013-1-10         2357   932\n",
       "# … with more rows"
      ]
     },
     "metadata": {},
     "output_type": "display_data"
    }
   ],
   "source": [
    "flights %>% \n",
    "  mutate(flight_date = paste(year,month,day,sep=\"-\"),\n",
    "         days_since = datediff(current_date(), flight_date)) %>%\n",
    "  group_by(flight_date,days_since) %>%\n",
    "  tally() %>%\n",
    "  arrange(-days_since)"
   ]
  }
 ],
 "metadata": {
  "kernelspec": {
   "display_name": "R",
   "language": "R",
   "name": "ir"
  },
  "language_info": {
   "codemirror_mode": "r",
   "file_extension": ".r",
   "mimetype": "text/x-r-source",
   "name": "R",
   "pygments_lexer": "r",
   "version": "3.5.1"
  },
  "notice": "Copyright 2017 Amazon.com, Inc. or its affiliates. All Rights Reserved.  Licensed under the Apache License, Version 2.0 (the \"License\"). You may not use this file except in compliance with the License. A copy of the License is located at http://aws.amazon.com/apache2.0/ or in the \"license\" file accompanying this file. This file is distributed on an \"AS IS\" BASIS, WITHOUT WARRANTIES OR CONDITIONS OF ANY KIND, either express or implied. See the License for the specific language governing permissions and limitations under the License."
 },
 "nbformat": 4,
 "nbformat_minor": 2
}
